{
  "nbformat": 4,
  "nbformat_minor": 0,
  "metadata": {
    "colab": {
      "provenance": []
    },
    "kernelspec": {
      "name": "python3",
      "display_name": "Python 3"
    },
    "language_info": {
      "name": "python"
    }
  },
  "cells": [
    {
      "cell_type": "code",
      "source": [
        "from google.colab import drive\n",
        "drive.mount('/content/gdrive')"
      ],
      "metadata": {
        "colab": {
          "base_uri": "https://localhost:8080/"
        },
        "id": "sD2IKsFNuqg8",
        "outputId": "7dc0bf45-1d51-43d3-dcc3-9f51ea4fe417"
      },
      "execution_count": null,
      "outputs": [
        {
          "output_type": "stream",
          "name": "stdout",
          "text": [
            "Drive already mounted at /content/gdrive; to attempt to forcibly remount, call drive.mount(\"/content/gdrive\", force_remount=True).\n"
          ]
        }
      ]
    },
    {
      "cell_type": "code",
      "source": [
        "cd gdrive/My Drive/projects/my-first-notebook"
      ],
      "metadata": {
        "colab": {
          "base_uri": "https://localhost:8080/"
        },
        "id": "w9r2X68vHgun",
        "outputId": "27b4b8c3-4d13-444a-8fea-e5484df6a064"
      },
      "execution_count": null,
      "outputs": [
        {
          "output_type": "stream",
          "name": "stdout",
          "text": [
            "[Errno 2] No such file or directory: 'gdrive/My Drive/projects/my-first-notebook'\n",
            "/content/gdrive/My Drive/projects/my-first-notebook\n"
          ]
        }
      ]
    },
    {
      "cell_type": "code",
      "source": [
        "!git init"
      ],
      "metadata": {
        "colab": {
          "base_uri": "https://localhost:8080/"
        },
        "id": "zwLyXUKrHlkh",
        "outputId": "6fd60818-eb24-4024-ba8a-bbc33c2b790e"
      },
      "execution_count": null,
      "outputs": [
        {
          "output_type": "stream",
          "name": "stdout",
          "text": [
            "Reinitialized existing Git repository in /content/gdrive/MyDrive/projects/my-first-notebook/.git/\n"
          ]
        }
      ]
    },
    {
      "cell_type": "code",
      "source": [
        "username = \"jattech\"\n",
        "repo = \"github.com/jattech/colab-test.git\"\n",
        "token = \"\"\n",
        "remoteRepo = \"https://\" + username + \":\" + token + \"@\" + repo"
      ],
      "metadata": {
        "id": "na-nbIchL40A"
      },
      "execution_count": null,
      "outputs": []
    },
    {
      "cell_type": "code",
      "source": [
        "!git config --global user.email \"you@example.com\"\n",
        "!git config --global user.name ${username}"
      ],
      "metadata": {
        "id": "NjEzKRsDvGvv"
      },
      "execution_count": null,
      "outputs": []
    },
    {
      "cell_type": "code",
      "source": [
        "!git add ."
      ],
      "metadata": {
        "id": "DBnNVHYbvoIm"
      },
      "execution_count": null,
      "outputs": []
    },
    {
      "cell_type": "code",
      "source": [
        "!git commit -m \"init\""
      ],
      "metadata": {
        "colab": {
          "base_uri": "https://localhost:8080/"
        },
        "id": "JRilb8ViHtKu",
        "outputId": "4a54c170-314d-492f-afb5-83127ec81686"
      },
      "execution_count": null,
      "outputs": [
        {
          "output_type": "stream",
          "name": "stdout",
          "text": [
            "[master 9b23488] init\n",
            " 1 file changed, 1 insertion(+), 1 deletion(-)\n",
            " rewrite my-first-notebook.ipynb (61%)\n"
          ]
        }
      ]
    },
    {
      "cell_type": "code",
      "source": [
        "!git remote add origin {remoteRepo}"
      ],
      "metadata": {
        "id": "f6YwmH5ovspP"
      },
      "execution_count": null,
      "outputs": []
    },
    {
      "cell_type": "code",
      "source": [
        "!git remote -v"
      ],
      "metadata": {
        "id": "ru2EO_22IPn9"
      },
      "execution_count": null,
      "outputs": []
    },
    {
      "cell_type": "code",
      "source": [
        "!git push -u origin master"
      ],
      "metadata": {
        "colab": {
          "base_uri": "https://localhost:8080/"
        },
        "id": "KQct7HxUv5fE",
        "outputId": "e499052a-8154-45de-eeb1-8fed8fb8bf5d"
      },
      "execution_count": null,
      "outputs": [
        {
          "output_type": "stream",
          "name": "stdout",
          "text": [
            "Enumerating objects: 20, done.\n",
            "Counting objects:   5% (1/20)\rCounting objects:  10% (2/20)\rCounting objects:  15% (3/20)\rCounting objects:  20% (4/20)\rCounting objects:  25% (5/20)\rCounting objects:  30% (6/20)\rCounting objects:  35% (7/20)\rCounting objects:  40% (8/20)\rCounting objects:  45% (9/20)\rCounting objects:  50% (10/20)\rCounting objects:  55% (11/20)\rCounting objects:  60% (12/20)\rCounting objects:  65% (13/20)\rCounting objects:  70% (14/20)\rCounting objects:  75% (15/20)\rCounting objects:  80% (16/20)\rCounting objects:  85% (17/20)\rCounting objects:  90% (18/20)\rCounting objects:  95% (19/20)\rCounting objects: 100% (20/20)\rCounting objects: 100% (20/20), done.\n",
            "Delta compression using up to 2 threads\n",
            "Compressing objects:   5% (1/18)\rCompressing objects:  11% (2/18)\rCompressing objects:  16% (3/18)\rCompressing objects:  22% (4/18)\rCompressing objects:  27% (5/18)\rCompressing objects:  33% (6/18)\rCompressing objects:  38% (7/18)\rCompressing objects:  44% (8/18)\rCompressing objects:  50% (9/18)\rCompressing objects:  55% (10/18)\rCompressing objects:  61% (11/18)\rCompressing objects:  66% (12/18)\rCompressing objects:  72% (13/18)\rCompressing objects:  77% (14/18)\rCompressing objects:  83% (15/18)\rCompressing objects:  88% (16/18)\rCompressing objects:  94% (17/18)\rCompressing objects: 100% (18/18)\rCompressing objects: 100% (18/18), done.\n",
            "Writing objects:   5% (1/18)\rWriting objects:  11% (2/18)\rWriting objects:  16% (3/18)\rWriting objects:  22% (4/18)\rWriting objects:  27% (5/18)\rWriting objects:  33% (6/18)\rWriting objects:  38% (7/18)\rWriting objects:  61% (11/18)\rWriting objects:  66% (12/18)\rWriting objects:  72% (13/18)\rWriting objects:  77% (14/18)\rWriting objects:  83% (15/18)\rWriting objects:  88% (16/18)\rWriting objects:  94% (17/18)\rWriting objects: 100% (18/18)\rWriting objects: 100% (18/18), 4.22 KiB | 287.00 KiB/s, done.\n",
            "Total 18 (delta 6), reused 0 (delta 0), pack-reused 0\n",
            "remote: Resolving deltas:   0% (0/6)\u001b[K\rremote: Resolving deltas:  16% (1/6)\u001b[K\rremote: Resolving deltas:  33% (2/6)\u001b[K\rremote: Resolving deltas:  50% (3/6)\u001b[K\rremote: Resolving deltas:  66% (4/6)\u001b[K\rremote: Resolving deltas:  83% (5/6)\u001b[K\rremote: Resolving deltas: 100% (6/6)\u001b[K\rremote: Resolving deltas: 100% (6/6), completed with 1 local object.\u001b[K\n",
            "To https://github.com/jattech/colab-test.git\n",
            "   82a06bd..9b23488  master -> master\n",
            "Branch 'master' set up to track remote branch 'master' from 'origin'.\n"
          ]
        }
      ]
    }
  ]
}